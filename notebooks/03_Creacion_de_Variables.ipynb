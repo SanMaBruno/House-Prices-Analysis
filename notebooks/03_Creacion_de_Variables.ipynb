{
 "cells": [
  {
   "cell_type": "markdown",
   "metadata": {},
   "source": [
    "# Creación de Variables\n",
    "\n",
    "En este notebook, creamos nuevas variables a partir de las existentes en el dataset `House Prices: Advanced Regression Techniques`.\n",
    "\n",
    "## Objetivos\n",
    "- Identificar variables existentes que se pueden combinar o transformar para crear nuevas variables significativas.\n",
    "- Crear y documentar nuevas variables.\n",
    "- Guardar el dataset con las nuevas variables.\n"
   ]
  },
  {
   "cell_type": "markdown",
   "metadata": {},
   "source": [
    "## Carga del Dataset Limpio\n"
   ]
  },
  {
   "cell_type": "code",
   "execution_count": 6,
   "metadata": {},
   "outputs": [],
   "source": [
    "# Importar librerías necesarias\n",
    "import pandas as pd\n",
    "import numpy as np\n",
    "\n",
    "train_df = pd.read_csv('data/processed/train_clean.csv')\n"
   ]
  },
  {
   "cell_type": "markdown",
   "metadata": {},
   "source": [
    "## Creación de Nuevas Variables\n",
    "\n",
    "Identificamos y creamos nuevas variables a partir de las existentes.\n"
   ]
  },
  {
   "cell_type": "code",
   "execution_count": 8,
   "metadata": {},
   "outputs": [
    {
     "name": "stdout",
     "output_type": "stream",
     "text": [
      "   Age  TotalSF\n",
      "0   21     2566\n",
      "1   48     2524\n",
      "2   23     2706\n",
      "3  109     2473\n",
      "4   24     3343\n"
     ]
    }
   ],
   "source": [
    "train_df['Age'] = 2024 - train_df['YearBuilt']\n",
    "train_df['TotalSF'] = train_df['TotalBsmtSF'] + train_df['1stFlrSF'] + train_df['2ndFlrSF']\n",
    "\n",
    "print(train_df[['Age', 'TotalSF']].head())\n"
   ]
  },
  {
   "cell_type": "markdown",
   "metadata": {},
   "source": [
    "## Justificación de las Nuevas Variables\n",
    "\n",
    "1. **Age**: La edad de la casa es una variable importante ya que las casas más antiguas pueden necesitar más mantenimiento y renovaciones, lo cual puede afectar su valor de mercado.\n",
    "2. **TotalSF**: El espacio total en pies cuadrados es una medida clave del tamaño de la casa, que es uno de los factores más importantes que los compradores consideran al evaluar el valor de una propiedad.\n"
   ]
  },
  {
   "cell_type": "markdown",
   "metadata": {},
   "source": [
    "## Guardado del Dataset con Nuevas Variables\n",
    "\n",
    "Guardamos el dataset con las nuevas variables para su uso en análisis posteriores.\n"
   ]
  },
  {
   "cell_type": "code",
   "execution_count": 9,
   "metadata": {},
   "outputs": [],
   "source": [
    "train_df.to_csv('data/processed/train_enriched.csv', index=False)\n"
   ]
  }
 ],
 "metadata": {
  "kernelspec": {
   "display_name": "Python (venv)",
   "language": "python",
   "name": "venv"
  },
  "language_info": {
   "codemirror_mode": {
    "name": "ipython",
    "version": 3
   },
   "file_extension": ".py",
   "mimetype": "text/x-python",
   "name": "python",
   "nbconvert_exporter": "python",
   "pygments_lexer": "ipython3",
   "version": "3.12.4"
  }
 },
 "nbformat": 4,
 "nbformat_minor": 2
}
