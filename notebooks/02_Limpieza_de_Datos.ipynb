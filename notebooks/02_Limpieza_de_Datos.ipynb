{
 "cells": [
  {
   "cell_type": "markdown",
   "metadata": {},
   "source": [
    "# Limpieza de Datos\n",
    "\n",
    "En este notebook, realizamos la limpieza del dataset `House Prices: Advanced Regression Techniques`. Los pasos incluyen la eliminación de duplicados, el manejo de valores faltantes y la justificación de cada acción tomada.\n",
    "\n",
    "## Objetivos\n",
    "- Eliminar filas duplicadas.\n",
    "- Manejar valores faltantes rellenando con la media para columnas numéricas y con el modo para columnas categóricas.\n",
    "- Justificar cada paso de limpieza.\n",
    "- Guardar el dataset limpio en `data/processed/train_clean.csv` y `data/processed/test_clean.csv`."
   ]
  },
  {
   "cell_type": "markdown",
   "metadata": {},
   "source": [
    "## Carga del Dataset\n"
   ]
  },
  {
   "cell_type": "code",
   "execution_count": 24,
   "metadata": {},
   "outputs": [
    {
     "name": "stdout",
     "output_type": "stream",
     "text": [
      "Número de filas duplicadas antes de la limpieza: 0\n",
      "Valores faltantes antes de la limpieza:\n",
      "LotFrontage      259\n",
      "Alley           1369\n",
      "MasVnrType       872\n",
      "MasVnrArea         8\n",
      "BsmtQual          37\n",
      "BsmtCond          37\n",
      "BsmtExposure      38\n",
      "BsmtFinType1      37\n",
      "BsmtFinType2      38\n",
      "Electrical         1\n",
      "FireplaceQu      690\n",
      "GarageType        81\n",
      "GarageYrBlt       81\n",
      "GarageFinish      81\n",
      "GarageQual        81\n",
      "GarageCond        81\n",
      "PoolQC          1453\n",
      "Fence           1179\n",
      "MiscFeature     1406\n",
      "dtype: int64\n"
     ]
    }
   ],
   "source": [
    "import pandas as pd\n",
    "import numpy as np\n",
    "\n",
    "train_df = pd.read_csv('data/raw/train.csv')\n",
    "test_df = pd.read_csv('data/raw/test.csv')\n",
    "\n",
    "# Inspección inicial para verificar duplicados y valores faltantes\n",
    "print(f'Número de filas duplicadas antes de la limpieza: {train_df.duplicated().sum()}')\n",
    "print(f'Valores faltantes antes de la limpieza:\\n{train_df.isnull().sum()[train_df.isnull().sum() > 0]}')\n"
   ]
  },
  {
   "cell_type": "markdown",
   "metadata": {},
   "source": [
    "## Eliminación de Duplicados\n",
    "\n",
    "Eliminamos las filas duplicadas para asegurar que cada registro en el dataset sea único y evitar sesgos en el análisis.\n"
   ]
  },
  {
   "cell_type": "code",
   "execution_count": 13,
   "metadata": {},
   "outputs": [
    {
     "name": "stdout",
     "output_type": "stream",
     "text": [
      "Número de filas duplicadas después de la limpieza: 0\n"
     ]
    }
   ],
   "source": [
    "train_df.drop_duplicates(inplace=True)\n",
    "\n",
    "# Verificación de duplicados\n",
    "print(f'Número de filas duplicadas después de la limpieza: {train_df.duplicated().sum()}')\n"
   ]
  },
  {
   "cell_type": "markdown",
   "metadata": {},
   "source": [
    "## Manejo de Valores Faltantes\n",
    "\n",
    "Rellenamos los valores faltantes para evitar problemas en el análisis y modelado posterior. Utilizamos la media para columnas numéricas y el modo para columnas categóricas.\n"
   ]
  },
  {
   "cell_type": "code",
   "execution_count": 25,
   "metadata": {},
   "outputs": [
    {
     "name": "stdout",
     "output_type": "stream",
     "text": [
      "Valores faltantes después de la limpieza:\n",
      "Series([], dtype: int64)\n"
     ]
    }
   ],
   "source": [
    "# Rellenar valores faltantes con la media para columnas numéricas\n",
    "numeric_cols = train_df.select_dtypes(include=[np.number]).columns\n",
    "train_df[numeric_cols] = train_df[numeric_cols].fillna(train_df[numeric_cols].mean())\n",
    "\n",
    "# Rellenar valores faltantes con el modo para columnas categoricas\n",
    "categorical_cols = train_df.select_dtypes(include=[object]).columns\n",
    "train_df[categorical_cols] = train_df[categorical_cols].apply(lambda x: x.fillna(x.mode()[0]))\n",
    "\n",
    "# Verificación de valores faltantes despues de la limpieza\n",
    "print(f'Valores faltantes después de la limpieza:\\n{train_df.isnull().sum()[train_df.isnull().sum() > 0]}')\n"
   ]
  },
  {
   "cell_type": "markdown",
   "metadata": {},
   "source": [
    "## Guardado del Dataset Limpio\n",
    "\n",
    "Guardamos el dataset limpio para su uso posterior en los análisis y modelado.\n"
   ]
  },
  {
   "cell_type": "code",
   "execution_count": 26,
   "metadata": {},
   "outputs": [],
   "source": [
    "train_df.to_csv('data/processed/train_clean.csv', index=False)\n",
    "test_df.to_csv('data/processed/test_clean.csv', index=False)"
   ]
  }
 ],
 "metadata": {
  "kernelspec": {
   "display_name": "Python (venv)",
   "language": "python",
   "name": "venv"
  },
  "language_info": {
   "codemirror_mode": {
    "name": "ipython",
    "version": 3
   },
   "file_extension": ".py",
   "mimetype": "text/x-python",
   "name": "python",
   "nbconvert_exporter": "python",
   "pygments_lexer": "ipython3",
   "version": "3.12.4"
  }
 },
 "nbformat": 4,
 "nbformat_minor": 2
}
