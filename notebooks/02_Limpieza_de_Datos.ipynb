{
 "cells": [
  {
   "cell_type": "markdown",
   "metadata": {},
   "source": [
    "# Limpieza de Datos\n",
    "\n",
    "En este notebook, realizamos la limpieza del dataset `House Prices: Advanced Regression Techniques`. Los pasos incluyen la eliminación de duplicados, el manejo de valores faltantes y la justificación de cada acción tomada.\n",
    "\n",
    "## Objetivos\n",
    "- Eliminar filas duplicadas.\n",
    "- Manejar valores faltantes rellenando con la media para columnas numéricas y con el modo para columnas categóricas.\n",
    "- Justificar cada paso de limpieza.\n",
    "- Guardar el dataset limpio en `data/processed/train_clean.csv` y `data/processed/test_clean.csv`."
   ]
  },
  {
   "cell_type": "markdown",
   "metadata": {},
   "source": [
    "## Carga del Dataset\n"
   ]
  },
  {
   "cell_type": "code",
   "execution_count": 11,
   "metadata": {},
   "outputs": [
    {
     "name": "stdout",
     "output_type": "stream",
     "text": [
      "=== Información Inicial del Dataset ===\n"
     ]
    },
    {
     "data": {
      "text/html": [
       "<div>\n",
       "<style scoped>\n",
       "    .dataframe tbody tr th:only-of-type {\n",
       "        vertical-align: middle;\n",
       "    }\n",
       "\n",
       "    .dataframe tbody tr th {\n",
       "        vertical-align: top;\n",
       "    }\n",
       "\n",
       "    .dataframe thead th {\n",
       "        text-align: right;\n",
       "    }\n",
       "</style>\n",
       "<table border=\"1\" class=\"dataframe\">\n",
       "  <thead>\n",
       "    <tr style=\"text-align: right;\">\n",
       "      <th></th>\n",
       "      <th>Descripción</th>\n",
       "      <th>Cantidad</th>\n",
       "    </tr>\n",
       "  </thead>\n",
       "  <tbody>\n",
       "    <tr>\n",
       "      <th>0</th>\n",
       "      <td>Filas duplicadas</td>\n",
       "      <td>0</td>\n",
       "    </tr>\n",
       "    <tr>\n",
       "      <th>1</th>\n",
       "      <td>Columnas con valores faltantes</td>\n",
       "      <td>19</td>\n",
       "    </tr>\n",
       "  </tbody>\n",
       "</table>\n",
       "</div>"
      ],
      "text/plain": [
       "                      Descripción  Cantidad\n",
       "0                Filas duplicadas         0\n",
       "1  Columnas con valores faltantes        19"
      ]
     },
     "metadata": {},
     "output_type": "display_data"
    },
    {
     "name": "stdout",
     "output_type": "stream",
     "text": [
      "\n",
      "=== Valores Faltantes por Columna ===\n"
     ]
    },
    {
     "data": {
      "text/html": [
       "<div>\n",
       "<style scoped>\n",
       "    .dataframe tbody tr th:only-of-type {\n",
       "        vertical-align: middle;\n",
       "    }\n",
       "\n",
       "    .dataframe tbody tr th {\n",
       "        vertical-align: top;\n",
       "    }\n",
       "\n",
       "    .dataframe thead th {\n",
       "        text-align: right;\n",
       "    }\n",
       "</style>\n",
       "<table border=\"1\" class=\"dataframe\">\n",
       "  <thead>\n",
       "    <tr style=\"text-align: right;\">\n",
       "      <th></th>\n",
       "      <th>Columna</th>\n",
       "      <th>Valores Faltantes</th>\n",
       "    </tr>\n",
       "  </thead>\n",
       "  <tbody>\n",
       "    <tr>\n",
       "      <th>0</th>\n",
       "      <td>PoolQC</td>\n",
       "      <td>1453</td>\n",
       "    </tr>\n",
       "    <tr>\n",
       "      <th>1</th>\n",
       "      <td>MiscFeature</td>\n",
       "      <td>1406</td>\n",
       "    </tr>\n",
       "    <tr>\n",
       "      <th>2</th>\n",
       "      <td>Alley</td>\n",
       "      <td>1369</td>\n",
       "    </tr>\n",
       "    <tr>\n",
       "      <th>3</th>\n",
       "      <td>Fence</td>\n",
       "      <td>1179</td>\n",
       "    </tr>\n",
       "    <tr>\n",
       "      <th>4</th>\n",
       "      <td>MasVnrType</td>\n",
       "      <td>872</td>\n",
       "    </tr>\n",
       "    <tr>\n",
       "      <th>5</th>\n",
       "      <td>FireplaceQu</td>\n",
       "      <td>690</td>\n",
       "    </tr>\n",
       "    <tr>\n",
       "      <th>6</th>\n",
       "      <td>LotFrontage</td>\n",
       "      <td>259</td>\n",
       "    </tr>\n",
       "    <tr>\n",
       "      <th>7</th>\n",
       "      <td>GarageType</td>\n",
       "      <td>81</td>\n",
       "    </tr>\n",
       "    <tr>\n",
       "      <th>8</th>\n",
       "      <td>GarageYrBlt</td>\n",
       "      <td>81</td>\n",
       "    </tr>\n",
       "    <tr>\n",
       "      <th>9</th>\n",
       "      <td>GarageFinish</td>\n",
       "      <td>81</td>\n",
       "    </tr>\n",
       "    <tr>\n",
       "      <th>10</th>\n",
       "      <td>GarageQual</td>\n",
       "      <td>81</td>\n",
       "    </tr>\n",
       "    <tr>\n",
       "      <th>11</th>\n",
       "      <td>GarageCond</td>\n",
       "      <td>81</td>\n",
       "    </tr>\n",
       "    <tr>\n",
       "      <th>12</th>\n",
       "      <td>BsmtFinType2</td>\n",
       "      <td>38</td>\n",
       "    </tr>\n",
       "    <tr>\n",
       "      <th>13</th>\n",
       "      <td>BsmtExposure</td>\n",
       "      <td>38</td>\n",
       "    </tr>\n",
       "    <tr>\n",
       "      <th>14</th>\n",
       "      <td>BsmtFinType1</td>\n",
       "      <td>37</td>\n",
       "    </tr>\n",
       "    <tr>\n",
       "      <th>15</th>\n",
       "      <td>BsmtCond</td>\n",
       "      <td>37</td>\n",
       "    </tr>\n",
       "    <tr>\n",
       "      <th>16</th>\n",
       "      <td>BsmtQual</td>\n",
       "      <td>37</td>\n",
       "    </tr>\n",
       "    <tr>\n",
       "      <th>17</th>\n",
       "      <td>MasVnrArea</td>\n",
       "      <td>8</td>\n",
       "    </tr>\n",
       "    <tr>\n",
       "      <th>18</th>\n",
       "      <td>Electrical</td>\n",
       "      <td>1</td>\n",
       "    </tr>\n",
       "  </tbody>\n",
       "</table>\n",
       "</div>"
      ],
      "text/plain": [
       "         Columna  Valores Faltantes\n",
       "0         PoolQC               1453\n",
       "1    MiscFeature               1406\n",
       "2          Alley               1369\n",
       "3          Fence               1179\n",
       "4     MasVnrType                872\n",
       "5    FireplaceQu                690\n",
       "6    LotFrontage                259\n",
       "7     GarageType                 81\n",
       "8    GarageYrBlt                 81\n",
       "9   GarageFinish                 81\n",
       "10    GarageQual                 81\n",
       "11    GarageCond                 81\n",
       "12  BsmtFinType2                 38\n",
       "13  BsmtExposure                 38\n",
       "14  BsmtFinType1                 37\n",
       "15      BsmtCond                 37\n",
       "16      BsmtQual                 37\n",
       "17    MasVnrArea                  8\n",
       "18    Electrical                  1"
      ]
     },
     "metadata": {},
     "output_type": "display_data"
    }
   ],
   "source": [
    "import pandas as pd\n",
    "import numpy as np\n",
    "\n",
    "# Cargar los datos\n",
    "train_df = pd.read_csv('data/raw/train.csv')\n",
    "test_df = pd.read_csv('data/raw/test.csv')\n",
    "\n",
    "# Inspección inicial para verificar duplicados y valores faltantes\n",
    "duplicated_count = train_df.duplicated().sum()\n",
    "missing_values = train_df.isnull().sum()\n",
    "missing_values = missing_values[missing_values > 0].sort_values(ascending=False)\n",
    "\n",
    "# Crear un DataFrame para mostrar información inicial\n",
    "info_df = pd.DataFrame({\n",
    "    'Descripción': ['Filas duplicadas', 'Columnas con valores faltantes'],\n",
    "    'Cantidad': [duplicated_count, len(missing_values)]\n",
    "})\n",
    "\n",
    "# Mostrar información inicial en una tabla\n",
    "print(\"=== Información Inicial del Dataset ===\")\n",
    "display(info_df)\n",
    "\n",
    "# Crear un DataFrame para los valores faltantes\n",
    "if not missing_values.empty:\n",
    "    missing_df = pd.DataFrame({\n",
    "        'Columna': missing_values.index,\n",
    "        'Valores Faltantes': missing_values.values\n",
    "    })\n",
    "    \n",
    "    # Mostrar DataFrame de valores faltantes\n",
    "    print(\"\\n=== Valores Faltantes por Columna ===\")\n",
    "    display(missing_df)\n",
    "else:\n",
    "    print(\"\\nNo hay valores faltantes en el dataset.\")"
   ]
  },
  {
   "cell_type": "markdown",
   "metadata": {},
   "source": [
    "## Eliminación de Duplicados\n",
    "\n",
    "Eliminamos las filas duplicadas para asegurar que cada registro en el dataset sea único y evitar sesgos en el análisis.\n"
   ]
  },
  {
   "cell_type": "code",
   "execution_count": 8,
   "metadata": {},
   "outputs": [
    {
     "name": "stdout",
     "output_type": "stream",
     "text": [
      "Número de filas duplicadas después de la limpieza: 0\n"
     ]
    }
   ],
   "source": [
    "train_df.drop_duplicates(inplace=True)\n",
    "\n",
    "# Verificación de duplicados\n",
    "print(f'Número de filas duplicadas después de la limpieza: {train_df.duplicated().sum()}')\n"
   ]
  },
  {
   "cell_type": "markdown",
   "metadata": {},
   "source": [
    "## Manejo de Valores Faltantes\n",
    "\n",
    "Rellenamos los valores faltantes para evitar problemas en el análisis y modelado posterior. Utilizamos la media para columnas numéricas y el modo para columnas categóricas.\n"
   ]
  },
  {
   "cell_type": "code",
   "execution_count": 12,
   "metadata": {},
   "outputs": [
    {
     "name": "stdout",
     "output_type": "stream",
     "text": [
      "Valores faltantes después de la limpieza:\n",
      "Series([], dtype: int64)\n"
     ]
    }
   ],
   "source": [
    "# Rellenar valores faltantes con la media para columnas numéricas\n",
    "numeric_cols = train_df.select_dtypes(include=[np.number]).columns\n",
    "train_df[numeric_cols] = train_df[numeric_cols].fillna(train_df[numeric_cols].mean())\n",
    "\n",
    "# Rellenar valores faltantes con el modo para columnas categoricas\n",
    "categorical_cols = train_df.select_dtypes(include=[object]).columns\n",
    "train_df[categorical_cols] = train_df[categorical_cols].apply(lambda x: x.fillna(x.mode()[0]))\n",
    "\n",
    "# Verificación de valores faltantes despues de la limpieza\n",
    "print(f'Valores faltantes después de la limpieza:\\n{train_df.isnull().sum()[train_df.isnull().sum() > 0]}')\n"
   ]
  },
  {
   "cell_type": "markdown",
   "metadata": {},
   "source": [
    "## Guardado del Dataset Limpio\n",
    "\n",
    "Guardamos el dataset limpio para su uso posterior en los análisis y modelado.\n"
   ]
  },
  {
   "cell_type": "code",
   "execution_count": 13,
   "metadata": {},
   "outputs": [],
   "source": [
    "train_df.to_csv('data/processed/train_clean.csv', index=False)\n",
    "test_df.to_csv('data/processed/test_clean.csv', index=False)"
   ]
  }
 ],
 "metadata": {
  "kernelspec": {
   "display_name": "Python (venv)",
   "language": "python",
   "name": "venv"
  },
  "language_info": {
   "codemirror_mode": {
    "name": "ipython",
    "version": 3
   },
   "file_extension": ".py",
   "mimetype": "text/x-python",
   "name": "python",
   "nbconvert_exporter": "python",
   "pygments_lexer": "ipython3",
   "version": "3.12.4"
  }
 },
 "nbformat": 4,
 "nbformat_minor": 2
}
